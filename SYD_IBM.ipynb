{
  "metadata": {
    "language_info": {
      "codemirror_mode": {
        "name": "python",
        "version": 3
      },
      "file_extension": ".py",
      "mimetype": "text/x-python",
      "name": "python",
      "nbconvert_exporter": "python",
      "pygments_lexer": "ipython3",
      "version": "3.8"
    },
    "kernelspec": {
      "name": "python",
      "display_name": "Pyolite",
      "language": "python"
    }
  },
  "nbformat_minor": 4,
  "nbformat": 4,
  "cells": [
    {
      "cell_type": "markdown",
      "source": "# My Jupyter Notebook on IBM Watson Studio",
      "metadata": {}
    },
    {
      "cell_type": "markdown",
      "source": "Shiyun Deng\nData Scientist",
      "metadata": {}
    },
    {
      "cell_type": "markdown",
      "source": "I am interested in data science because I like Statistics",
      "metadata": {}
    },
    {
      "cell_type": "markdown",
      "source": "### I want to print my name.",
      "metadata": {}
    },
    {
      "cell_type": "code",
      "source": "print('Shiyun Deng')",
      "metadata": {
        "trusted": true
      },
      "execution_count": 3,
      "outputs": [
        {
          "name": "stdout",
          "text": "Shiyun Deng\n",
          "output_type": "stream"
        }
      ]
    },
    {
      "cell_type": "markdown",
      "source": "[I'm an inline-style link](https://www.google.com)\n| Tables     | Name           \n| -----------|:------:| \n| table 1    | Shiyun | \n| table 2    | Amber  |\n\n---\nGOT7\n***\nEXO",
      "metadata": {}
    },
    {
      "cell_type": "code",
      "source": "",
      "metadata": {},
      "execution_count": null,
      "outputs": []
    }
  ]
}